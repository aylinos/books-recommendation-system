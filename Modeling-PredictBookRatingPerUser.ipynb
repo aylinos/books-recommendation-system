{
 "cells": [
  {
   "cell_type": "markdown",
   "metadata": {},
   "source": [
    "# Modeling: Predict book rating per user"
   ]
  },
  {
   "cell_type": "markdown",
   "metadata": {},
   "source": [
    "This recommender system aims to predict the rating and preferences of users on books. In this case, the approach used to suggest books is **Collaborative Filtering**. \n",
    "\n",
    "The assumption of this approach is that people who have liked an item in the past will also like the same in future. This approach builds a model based on the past behaviour of users. The user behaviour may include previously watched videos, purchased items, given ratings on items. In this way, the model finds an association between the users and the items. The model is then used to predict the item or a rating for the item in which the user may be interested. *Singular value decomposition* is widely used as a collaborative filtering approach in recommender systems, which is also the chosen model in this concrete case. \n",
    "\n",
    "\n",
    "The **Singular Value Decomposition (SVD)** is a method from linear algebra that has been generally used as a dimensionality reduction technique in machine learning. SVD is a matrix factorisation technique, which reduces the number of features of a dataset by reducing the space dimension from N-dimension to K-dimension (where K<N). In the context of the recommender system, the SVD uses a matrix structure where each row represents a user, and each column represents a book. The elements of this matrix are the ratings that are given to books by users. The factorisation of this matrix is done by the singular value decomposition, which is a method of decomposing a matrix into three other matrices. In this case, the aim is to reveal latent factors in the rating matrix by minimizing the Root Mean Squared Error (RMSE). More about the matrices can be found on [Wikipedia](https://en.wikipedia.org/wiki/Singular_value_decomposition). Furthermore, the SVD model works with *latent features*, which are 'hidden' features to distinguish them from observed features. Latent features are computed from observed features using matrix factorization. An example would be text document analysis. 'words' extracted from the documents are features. Examples of latent features in SVD matrices can be found [here](https://www.dataminingapps.com/2020/02/singular-value-decomposition-in-recommender-systems/)\n",
    "\n",
    "##### Source: https://analyticsindiamag.com/singular-value-decomposition-svd-application-recommender-system/"
   ]
  },
  {
   "cell_type": "markdown",
   "metadata": {},
   "source": [
    "### Main Libraries Needed:"
   ]
  },
  {
   "cell_type": "code",
   "execution_count": 1,
   "metadata": {},
   "outputs": [],
   "source": [
    "import pandas as pd\n",
    "import numpy as np\n",
    "import seaborn as sns\n",
    "import matplotlib.pyplot as plt\n",
    "\n",
    "from typing import * # Library for Dictionary\n",
    "from surprise import accuracy\n",
    "from surprise import SVD, Dataset, Reader\n",
    "from surprise.model_selection import cross_validate, train_test_split"
   ]
  },
  {
   "cell_type": "markdown",
   "metadata": {},
   "source": [
    "### Dataset"
   ]
  },
  {
   "cell_type": "code",
   "execution_count": 2,
   "metadata": {
    "scrolled": false
   },
   "outputs": [
    {
     "data": {
      "text/html": [
       "<div>\n",
       "<style scoped>\n",
       "    .dataframe tbody tr th:only-of-type {\n",
       "        vertical-align: middle;\n",
       "    }\n",
       "\n",
       "    .dataframe tbody tr th {\n",
       "        vertical-align: top;\n",
       "    }\n",
       "\n",
       "    .dataframe thead th {\n",
       "        text-align: right;\n",
       "    }\n",
       "</style>\n",
       "<table border=\"1\" class=\"dataframe\">\n",
       "  <thead>\n",
       "    <tr style=\"text-align: right;\">\n",
       "      <th></th>\n",
       "      <th>User-ID</th>\n",
       "      <th>ISBN</th>\n",
       "      <th>Book-Rating</th>\n",
       "      <th>AVG-Rating</th>\n",
       "      <th>Vote-Count</th>\n",
       "      <th>City</th>\n",
       "      <th>State</th>\n",
       "      <th>Country</th>\n",
       "      <th>Age-Range</th>\n",
       "      <th>Book-Title</th>\n",
       "      <th>Book-Author</th>\n",
       "      <th>Year-Of-Publication</th>\n",
       "      <th>Publisher</th>\n",
       "    </tr>\n",
       "  </thead>\n",
       "  <tbody>\n",
       "    <tr>\n",
       "      <th>0</th>\n",
       "      <td>2313</td>\n",
       "      <td>034545104X</td>\n",
       "      <td>5</td>\n",
       "      <td>6.285714</td>\n",
       "      <td>28</td>\n",
       "      <td>cincinnati</td>\n",
       "      <td>ohio</td>\n",
       "      <td>usa</td>\n",
       "      <td>20-24</td>\n",
       "      <td>Flesh Tones: A Novel</td>\n",
       "      <td>M. J. Rose</td>\n",
       "      <td>2002</td>\n",
       "      <td>Ballantine Books</td>\n",
       "    </tr>\n",
       "    <tr>\n",
       "      <th>1</th>\n",
       "      <td>8680</td>\n",
       "      <td>034545104X</td>\n",
       "      <td>5</td>\n",
       "      <td>6.285714</td>\n",
       "      <td>28</td>\n",
       "      <td>st. charles county</td>\n",
       "      <td>missouri</td>\n",
       "      <td>usa</td>\n",
       "      <td>0-9</td>\n",
       "      <td>Flesh Tones: A Novel</td>\n",
       "      <td>M. J. Rose</td>\n",
       "      <td>2002</td>\n",
       "      <td>Ballantine Books</td>\n",
       "    </tr>\n",
       "    <tr>\n",
       "      <th>2</th>\n",
       "      <td>10314</td>\n",
       "      <td>034545104X</td>\n",
       "      <td>9</td>\n",
       "      <td>6.285714</td>\n",
       "      <td>28</td>\n",
       "      <td>beaverton</td>\n",
       "      <td>oregon</td>\n",
       "      <td>usa</td>\n",
       "      <td>40-49</td>\n",
       "      <td>Flesh Tones: A Novel</td>\n",
       "      <td>M. J. Rose</td>\n",
       "      <td>2002</td>\n",
       "      <td>Ballantine Books</td>\n",
       "    </tr>\n",
       "  </tbody>\n",
       "</table>\n",
       "</div>"
      ],
      "text/plain": [
       "   User-ID        ISBN  Book-Rating  AVG-Rating  Vote-Count  \\\n",
       "0     2313  034545104X            5    6.285714          28   \n",
       "1     8680  034545104X            5    6.285714          28   \n",
       "2    10314  034545104X            9    6.285714          28   \n",
       "\n",
       "                 City     State Country Age-Range            Book-Title  \\\n",
       "0          cincinnati      ohio     usa     20-24  Flesh Tones: A Novel   \n",
       "1  st. charles county  missouri     usa       0-9  Flesh Tones: A Novel   \n",
       "2           beaverton    oregon     usa     40-49  Flesh Tones: A Novel   \n",
       "\n",
       "  Book-Author  Year-Of-Publication         Publisher  \n",
       "0  M. J. Rose                 2002  Ballantine Books  \n",
       "1  M. J. Rose                 2002  Ballantine Books  \n",
       "2  M. J. Rose                 2002  Ballantine Books  "
      ]
     },
     "execution_count": 2,
     "metadata": {},
     "output_type": "execute_result"
    }
   ],
   "source": [
    "df = pd.read_csv('Prepared.csv', error_bad_lines=False, delimiter=',', encoding = 'ISO-8859-1') \n",
    "df.head(3)"
   ]
  },
  {
   "cell_type": "code",
   "execution_count": 3,
   "metadata": {},
   "outputs": [
    {
     "name": "stdout",
     "output_type": "stream",
     "text": [
      "6 books are rated per user on average\n"
     ]
    }
   ],
   "source": [
    "print(\"{:.0f} books are rated per user on average\".format(df.groupby('User-ID')['ISBN'].nunique().mean()))"
   ]
  },
  {
   "cell_type": "markdown",
   "metadata": {},
   "source": [
    "Extract all users with more ratings than the average to have a good foundation for the model:"
   ]
  },
  {
   "cell_type": "code",
   "execution_count": 4,
   "metadata": {},
   "outputs": [],
   "source": [
    "df_xtrct = df.loc[np.where(df.groupby('User-ID')['ISBN'].nunique() >= df.groupby('User-ID')['ISBN'].nunique().mean())]"
   ]
  },
  {
   "cell_type": "code",
   "execution_count": 5,
   "metadata": {},
   "outputs": [
    {
     "name": "stdout",
     "output_type": "stream",
     "text": [
      "10328 rows will take place in future work with a total of 2353 unique books\n"
     ]
    }
   ],
   "source": [
    "print(\"{} rows will take place in future work with a total of {} unique books\".format(df_xtrct.shape[0], df_xtrct['Book-Title'].nunique()))"
   ]
  },
  {
   "cell_type": "markdown",
   "metadata": {},
   "source": [
    "----------"
   ]
  },
  {
   "cell_type": "markdown",
   "metadata": {},
   "source": [
    "### Data Preprocessing\n",
    "Data preprocessing is the conversion of data into machine-readable form that can be interpreted, analysed and used by machine learning algorithms. "
   ]
  },
  {
   "cell_type": "markdown",
   "metadata": {},
   "source": [
    "In this section detection of outliers and anomalies usually takes place. However, in our case no such actions are needed due to the **user-based collaborative filtering** implemented. It is a technique used to predict the items that a user might like on the basis of ratings given to that item by the other users who have similar taste with that of the target user. Therefore, the prediction is based on finding similarities between users, not among features. Actually, there are no dependent variables at all as collaborative filtering approach is not the typical regression approach.\n",
    "\n",
    "\n",
    "The steps undertaken to preprocess the data for modeling are as follows:"
   ]
  },
  {
   "cell_type": "markdown",
   "metadata": {},
   "source": [
    "##### Step 1: Features adjustment\n",
    "Keep the only 3 attributes necessary for the work of the algorithm: user id, book title & rating. It is important that the features are in this order, too."
   ]
  },
  {
   "cell_type": "code",
   "execution_count": 6,
   "metadata": {},
   "outputs": [],
   "source": [
    "df_xtrct = pd.DataFrame(df_xtrct[{'User-ID', 'Book-Title', 'Book-Rating'}])\n",
    "df_xtrct = df_xtrct.rename(columns={\"User-ID\": \"userId\", \"Book-Title\": \"title\", \"Book-Rating\": \"rating\"})"
   ]
  },
  {
   "cell_type": "code",
   "execution_count": 7,
   "metadata": {},
   "outputs": [
    {
     "data": {
      "text/html": [
       "<div>\n",
       "<style scoped>\n",
       "    .dataframe tbody tr th:only-of-type {\n",
       "        vertical-align: middle;\n",
       "    }\n",
       "\n",
       "    .dataframe tbody tr th {\n",
       "        vertical-align: top;\n",
       "    }\n",
       "\n",
       "    .dataframe thead th {\n",
       "        text-align: right;\n",
       "    }\n",
       "</style>\n",
       "<table border=\"1\" class=\"dataframe\">\n",
       "  <thead>\n",
       "    <tr style=\"text-align: right;\">\n",
       "      <th></th>\n",
       "      <th>userId</th>\n",
       "      <th>title</th>\n",
       "      <th>rating</th>\n",
       "    </tr>\n",
       "  </thead>\n",
       "  <tbody>\n",
       "    <tr>\n",
       "      <th>31</th>\n",
       "      <td>11676</td>\n",
       "      <td>The Notebook</td>\n",
       "      <td>10</td>\n",
       "    </tr>\n",
       "    <tr>\n",
       "      <th>36</th>\n",
       "      <td>24878</td>\n",
       "      <td>The Notebook</td>\n",
       "      <td>7</td>\n",
       "    </tr>\n",
       "    <tr>\n",
       "      <th>58</th>\n",
       "      <td>157823</td>\n",
       "      <td>The Notebook</td>\n",
       "      <td>10</td>\n",
       "    </tr>\n",
       "    <tr>\n",
       "      <th>59</th>\n",
       "      <td>158295</td>\n",
       "      <td>The Notebook</td>\n",
       "      <td>8</td>\n",
       "    </tr>\n",
       "    <tr>\n",
       "      <th>60</th>\n",
       "      <td>167812</td>\n",
       "      <td>The Notebook</td>\n",
       "      <td>10</td>\n",
       "    </tr>\n",
       "    <tr>\n",
       "      <th>...</th>\n",
       "      <td>...</td>\n",
       "      <td>...</td>\n",
       "      <td>...</td>\n",
       "    </tr>\n",
       "    <tr>\n",
       "      <th>65336</th>\n",
       "      <td>128122</td>\n",
       "      <td>Final Target</td>\n",
       "      <td>10</td>\n",
       "    </tr>\n",
       "    <tr>\n",
       "      <th>65350</th>\n",
       "      <td>193898</td>\n",
       "      <td>Final Target</td>\n",
       "      <td>9</td>\n",
       "    </tr>\n",
       "    <tr>\n",
       "      <th>65383</th>\n",
       "      <td>69593</td>\n",
       "      <td>The Lottery Winner : Alvirah And Willy Stories</td>\n",
       "      <td>7</td>\n",
       "    </tr>\n",
       "    <tr>\n",
       "      <th>65387</th>\n",
       "      <td>83084</td>\n",
       "      <td>The Lottery Winner : Alvirah And Willy Stories</td>\n",
       "      <td>9</td>\n",
       "    </tr>\n",
       "    <tr>\n",
       "      <th>65389</th>\n",
       "      <td>95359</td>\n",
       "      <td>The Lottery Winner : Alvirah And Willy Stories</td>\n",
       "      <td>8</td>\n",
       "    </tr>\n",
       "  </tbody>\n",
       "</table>\n",
       "<p>10328 rows × 3 columns</p>\n",
       "</div>"
      ],
      "text/plain": [
       "       userId                                           title  rating\n",
       "31      11676                                    The Notebook      10\n",
       "36      24878                                    The Notebook       7\n",
       "58     157823                                    The Notebook      10\n",
       "59     158295                                    The Notebook       8\n",
       "60     167812                                    The Notebook      10\n",
       "...       ...                                             ...     ...\n",
       "65336  128122                                    Final Target      10\n",
       "65350  193898                                    Final Target       9\n",
       "65383   69593  The Lottery Winner : Alvirah And Willy Stories       7\n",
       "65387   83084  The Lottery Winner : Alvirah And Willy Stories       9\n",
       "65389   95359  The Lottery Winner : Alvirah And Willy Stories       8\n",
       "\n",
       "[10328 rows x 3 columns]"
      ]
     },
     "execution_count": 7,
     "metadata": {},
     "output_type": "execute_result"
    }
   ],
   "source": [
    "# Adjust the position of the columns for \"Dataset\"\n",
    "\n",
    "users = df_xtrct['userId']\n",
    "df_xtrct.drop(labels=['userId'], axis=1, inplace = True)\n",
    "df_xtrct.insert(0, 'userId', users)\n",
    "\n",
    "titles = df_xtrct['title']\n",
    "df_xtrct.drop(labels=['title'], axis=1, inplace = True)\n",
    "df_xtrct.insert(1, 'title', titles)\n",
    "\n",
    "df_xtrct"
   ]
  },
  {
   "cell_type": "markdown",
   "metadata": {},
   "source": [
    "Adjust the data types of the 3 columns:"
   ]
  },
  {
   "cell_type": "code",
   "execution_count": 8,
   "metadata": {
    "scrolled": true
   },
   "outputs": [
    {
     "name": "stdout",
     "output_type": "stream",
     "text": [
      "<class 'pandas.core.frame.DataFrame'>\n",
      "Int64Index: 10328 entries, 31 to 65389\n",
      "Data columns (total 3 columns):\n",
      " #   Column  Non-Null Count  Dtype \n",
      "---  ------  --------------  ----- \n",
      " 0   userId  10328 non-null  string\n",
      " 1   title   10328 non-null  string\n",
      " 2   rating  10328 non-null  int32 \n",
      "dtypes: int32(1), string(2)\n",
      "memory usage: 282.4 KB\n"
     ]
    }
   ],
   "source": [
    "df_xtrct['userId'] = df_xtrct['userId'].astype('string')\n",
    "df_xtrct['title'] = df_xtrct['title'].astype('string')\n",
    "df_xtrct['rating'] = df_xtrct['rating'].astype('int32')\n",
    "\n",
    "df_xtrct.info()"
   ]
  },
  {
   "cell_type": "markdown",
   "metadata": {},
   "source": [
    "The focus is now on the SVD algorithm chosen for the purpose of predicting book rating per user."
   ]
  },
  {
   "cell_type": "markdown",
   "metadata": {},
   "source": [
    "##### Step 2: Create a Reader\n",
    "A reader tells our SVD what the lower and upper bound of our ratings is. In this case, the ratings are from 1 to 10."
   ]
  },
  {
   "cell_type": "code",
   "execution_count": 9,
   "metadata": {},
   "outputs": [],
   "source": [
    "reader = Reader(line_format='user item rating', rating_scale=(1, 10))"
   ]
  },
  {
   "cell_type": "markdown",
   "metadata": {},
   "source": [
    "##### Step 3: Create a new Dataset instance with our dataframe and the reader\n",
    "It is important to mention again that the dataframe needs to have 3 columns in this specific order: user_id, product_id, rating."
   ]
  },
  {
   "cell_type": "code",
   "execution_count": 10,
   "metadata": {},
   "outputs": [],
   "source": [
    "data = Dataset.load_from_df(df_xtrct, reader=reader)"
   ]
  },
  {
   "cell_type": "markdown",
   "metadata": {},
   "source": [
    "##### Step 4: Split the data into train and testsets\n",
    "25% of the data are kept for testing."
   ]
  },
  {
   "cell_type": "code",
   "execution_count": 11,
   "metadata": {},
   "outputs": [],
   "source": [
    "trainset, testset = train_test_split(data, test_size=.25, random_state=42)"
   ]
  },
  {
   "cell_type": "markdown",
   "metadata": {},
   "source": [
    "----------"
   ]
  },
  {
   "cell_type": "markdown",
   "metadata": {},
   "source": [
    "### Model training \n",
    "Train a new SVD model"
   ]
  },
  {
   "cell_type": "code",
   "execution_count": 12,
   "metadata": {},
   "outputs": [
    {
     "data": {
      "text/plain": [
       "<surprise.prediction_algorithms.matrix_factorization.SVD at 0x1f761440370>"
      ]
     },
     "execution_count": 12,
     "metadata": {},
     "output_type": "execute_result"
    }
   ],
   "source": [
    "model = SVD()\n",
    "model.fit(trainset)"
   ]
  },
  {
   "cell_type": "markdown",
   "metadata": {},
   "source": [
    "The SVD decomposes the main matrix into 3 and these matrices has latent features. This is how the books matrix looks like:"
   ]
  },
  {
   "cell_type": "code",
   "execution_count": 13,
   "metadata": {
    "scrolled": true
   },
   "outputs": [
    {
     "data": {
      "text/html": [
       "<div>\n",
       "<style scoped>\n",
       "    .dataframe tbody tr th:only-of-type {\n",
       "        vertical-align: middle;\n",
       "    }\n",
       "\n",
       "    .dataframe tbody tr th {\n",
       "        vertical-align: top;\n",
       "    }\n",
       "\n",
       "    .dataframe thead th {\n",
       "        text-align: right;\n",
       "    }\n",
       "</style>\n",
       "<table border=\"1\" class=\"dataframe\">\n",
       "  <thead>\n",
       "    <tr style=\"text-align: right;\">\n",
       "      <th></th>\n",
       "      <th>Book name</th>\n",
       "      <th>model.qi row idx</th>\n",
       "    </tr>\n",
       "  </thead>\n",
       "  <tbody>\n",
       "    <tr>\n",
       "      <th>0</th>\n",
       "      <td>Pay It Forward</td>\n",
       "      <td>0</td>\n",
       "    </tr>\n",
       "    <tr>\n",
       "      <th>1</th>\n",
       "      <td>The Street Lawyer</td>\n",
       "      <td>1</td>\n",
       "    </tr>\n",
       "    <tr>\n",
       "      <th>2</th>\n",
       "      <td>Life of Pi</td>\n",
       "      <td>2</td>\n",
       "    </tr>\n",
       "    <tr>\n",
       "      <th>3</th>\n",
       "      <td>Intimate Partners: Patterns in Love and Marriage</td>\n",
       "      <td>3</td>\n",
       "    </tr>\n",
       "    <tr>\n",
       "      <th>4</th>\n",
       "      <td>The Wonderful Story of Henry Sugar and Six More</td>\n",
       "      <td>4</td>\n",
       "    </tr>\n",
       "  </tbody>\n",
       "</table>\n",
       "</div>"
      ],
      "text/plain": [
       "                                          Book name  model.qi row idx\n",
       "0                                    Pay It Forward                 0\n",
       "1                                 The Street Lawyer                 1\n",
       "2                                        Life of Pi                 2\n",
       "3  Intimate Partners: Patterns in Love and Marriage                 3\n",
       "4   The Wonderful Story of Henry Sugar and Six More                 4"
      ]
     },
     "execution_count": 13,
     "metadata": {},
     "output_type": "execute_result"
    }
   ],
   "source": [
    "item_to_row_idx: Dict[Any, int] = model.trainset._raw2inner_id_items\n",
    "\n",
    "# Unpacking a dict into a DataFrame for readibility\n",
    "item_to_row_idx_df = pd.DataFrame(\n",
    "    list(item_to_row_idx.items()),\n",
    "    columns=['Book name', 'model.qi row idx'],\n",
    ")\n",
    "item_to_row_idx_df.head(5)"
   ]
  },
  {
   "cell_type": "markdown",
   "metadata": {},
   "source": [
    "How to identify a particular book:"
   ]
  },
  {
   "cell_type": "code",
   "execution_count": 14,
   "metadata": {},
   "outputs": [
    {
     "data": {
      "text/plain": [
       "array([ 1.12985531e-01, -1.76395099e-01, -8.39288644e-02, -8.70399833e-02,\n",
       "       -3.52111736e-02,  4.22965507e-02, -1.26508933e-02, -4.83173128e-02,\n",
       "        1.28716463e-01, -3.31191708e-02, -1.45614783e-01, -7.20504742e-02,\n",
       "       -2.06994939e-02,  1.88656329e-01,  2.96496571e-02,  1.54800054e-01,\n",
       "        1.17974247e-01, -1.01245168e-01, -6.40245016e-02,  3.92439842e-02,\n",
       "        1.60752775e-01,  2.45715654e-01, -1.17835642e-01,  4.92659962e-02,\n",
       "       -1.56643963e-01, -8.49097442e-02, -6.83964645e-02, -8.42265238e-02,\n",
       "       -1.17910189e-02, -7.53033170e-02,  2.97766459e-01,  7.95646535e-02,\n",
       "        2.35084342e-01,  4.93404881e-05, -1.08624254e-01,  4.06023778e-02,\n",
       "       -7.56797744e-02,  1.23004888e-01, -3.81610936e-02,  2.30739998e-03,\n",
       "        2.23196326e-01,  1.18084572e-01,  4.94449301e-02, -8.60081813e-02,\n",
       "       -9.70847962e-02,  8.75482267e-02, -9.29108525e-02,  2.76862984e-02,\n",
       "       -6.29803280e-02,  1.57865068e-01, -7.85221927e-03,  6.47372496e-02,\n",
       "       -1.59373174e-02,  1.33350499e-01, -7.44481570e-02, -1.17371407e-01,\n",
       "        1.85664554e-01,  4.97901488e-02, -1.98402130e-01, -1.22460047e-01,\n",
       "       -6.39206311e-02, -7.44638449e-02,  7.83981995e-02,  2.31931524e-01,\n",
       "        6.61076219e-02,  6.15149444e-02,  1.50002733e-01,  6.47282109e-02,\n",
       "        3.23483460e-02,  3.50268017e-02,  8.74607061e-02,  1.15368710e-02,\n",
       "       -5.80638940e-02, -4.44909356e-02,  1.58275559e-02, -1.24270483e-02,\n",
       "       -1.02207577e-01, -2.19052090e-01,  2.01870575e-01,  1.70301995e-01,\n",
       "       -4.21432829e-02, -9.89776695e-02,  1.20344325e-01, -1.08872977e-01,\n",
       "       -2.05864757e-02,  8.56905608e-02,  6.91012562e-02,  4.92201019e-03,\n",
       "       -2.78589845e-02, -2.26390766e-01, -3.23302304e-02,  6.76375829e-03,\n",
       "        6.65936297e-02,  5.87485948e-02, -2.25419217e-01, -3.93062946e-02,\n",
       "        3.18466357e-02, -1.19482538e-01, -3.62941174e-02, -1.85202226e-01])"
      ]
     },
     "execution_count": 14,
     "metadata": {},
     "output_type": "execute_result"
    }
   ],
   "source": [
    "book_row_idx : int = item_to_row_idx['Hearts In Atlantis']\n",
    "model.qi[book_row_idx]"
   ]
  },
  {
   "cell_type": "markdown",
   "metadata": {},
   "source": [
    "Loaded are all its latent features. "
   ]
  },
  {
   "cell_type": "code",
   "execution_count": 15,
   "metadata": {},
   "outputs": [
    {
     "name": "stdout",
     "output_type": "stream",
     "text": [
      "Every book has 100 features\n"
     ]
    }
   ],
   "source": [
    "print(f\"Every book has {model.qi[book_row_idx].shape[0]} features\")"
   ]
  },
  {
   "cell_type": "markdown",
   "metadata": {},
   "source": [
    "----------"
   ]
  },
  {
   "cell_type": "markdown",
   "metadata": {},
   "source": [
    "### Predicting"
   ]
  },
  {
   "cell_type": "markdown",
   "metadata": {},
   "source": [
    "#### Predict a score between any combination of user and a book"
   ]
  },
  {
   "cell_type": "markdown",
   "metadata": {},
   "source": [
    "Load the dataset *UniqueBooks.csv* where each row represents a unique book without repetitions. Therefore, it contains less rows in comparison with the main dataset (*df*), which will speed up the process of identifying the searched book based on the input title."
   ]
  },
  {
   "cell_type": "code",
   "execution_count": 16,
   "metadata": {},
   "outputs": [
    {
     "data": {
      "text/html": [
       "<div>\n",
       "<style scoped>\n",
       "    .dataframe tbody tr th:only-of-type {\n",
       "        vertical-align: middle;\n",
       "    }\n",
       "\n",
       "    .dataframe tbody tr th {\n",
       "        vertical-align: top;\n",
       "    }\n",
       "\n",
       "    .dataframe thead th {\n",
       "        text-align: right;\n",
       "    }\n",
       "</style>\n",
       "<table border=\"1\" class=\"dataframe\">\n",
       "  <thead>\n",
       "    <tr style=\"text-align: right;\">\n",
       "      <th></th>\n",
       "      <th>Book-Title</th>\n",
       "      <th>Year-Of-Publication</th>\n",
       "      <th>Book-Author</th>\n",
       "      <th>AVG-Rating</th>\n",
       "      <th>Publisher</th>\n",
       "      <th>Vote-Count</th>\n",
       "      <th>ISBN</th>\n",
       "    </tr>\n",
       "  </thead>\n",
       "  <tbody>\n",
       "    <tr>\n",
       "      <th>0</th>\n",
       "      <td>Flesh Tones: A Novel</td>\n",
       "      <td>2002</td>\n",
       "      <td>M. J. Rose</td>\n",
       "      <td>6.285714</td>\n",
       "      <td>Ballantine Books</td>\n",
       "      <td>28</td>\n",
       "      <td>034545104X</td>\n",
       "    </tr>\n",
       "    <tr>\n",
       "      <th>1</th>\n",
       "      <td>Rites of Passage</td>\n",
       "      <td>2001</td>\n",
       "      <td>Judith Rae</td>\n",
       "      <td>4.800000</td>\n",
       "      <td>Heinle</td>\n",
       "      <td>5</td>\n",
       "      <td>0571117880</td>\n",
       "    </tr>\n",
       "    <tr>\n",
       "      <th>2</th>\n",
       "      <td>The Notebook</td>\n",
       "      <td>1996</td>\n",
       "      <td>Nicholas Sparks</td>\n",
       "      <td>7.897611</td>\n",
       "      <td>Warner Books</td>\n",
       "      <td>293</td>\n",
       "      <td>0446605239</td>\n",
       "    </tr>\n",
       "    <tr>\n",
       "      <th>3</th>\n",
       "      <td>Help!: Level 1</td>\n",
       "      <td>1999</td>\n",
       "      <td>Philip Prowse</td>\n",
       "      <td>3.000000</td>\n",
       "      <td>Cambridge University Press</td>\n",
       "      <td>1</td>\n",
       "      <td>052165615X</td>\n",
       "    </tr>\n",
       "    <tr>\n",
       "      <th>4</th>\n",
       "      <td>The Amsterdam Connection : Level 4 (Cambridge ...</td>\n",
       "      <td>2001</td>\n",
       "      <td>Sue Leather</td>\n",
       "      <td>6.000000</td>\n",
       "      <td>Cambridge University Press</td>\n",
       "      <td>1</td>\n",
       "      <td>0521795028</td>\n",
       "    </tr>\n",
       "    <tr>\n",
       "      <th>...</th>\n",
       "      <td>...</td>\n",
       "      <td>...</td>\n",
       "      <td>...</td>\n",
       "      <td>...</td>\n",
       "      <td>...</td>\n",
       "      <td>...</td>\n",
       "      <td>...</td>\n",
       "    </tr>\n",
       "    <tr>\n",
       "      <th>118716</th>\n",
       "      <td>A MARRIAGE MADE AT WOODSTOCK</td>\n",
       "      <td>1995</td>\n",
       "      <td>Cathie Pelletier</td>\n",
       "      <td>7.000000</td>\n",
       "      <td>Washington Square Press</td>\n",
       "      <td>1</td>\n",
       "      <td>0671516949</td>\n",
       "    </tr>\n",
       "    <tr>\n",
       "      <th>118717</th>\n",
       "      <td>The WEIGHT OF WINTER</td>\n",
       "      <td>1993</td>\n",
       "      <td>Cathie Pelletier</td>\n",
       "      <td>9.000000</td>\n",
       "      <td>Washington Square Press</td>\n",
       "      <td>1</td>\n",
       "      <td>067179387X</td>\n",
       "    </tr>\n",
       "    <tr>\n",
       "      <th>118718</th>\n",
       "      <td>Time Out Chicago (Time Out Chicago)</td>\n",
       "      <td>2000</td>\n",
       "      <td>Time Out</td>\n",
       "      <td>9.000000</td>\n",
       "      <td>Penguin Books</td>\n",
       "      <td>1</td>\n",
       "      <td>0140290788</td>\n",
       "    </tr>\n",
       "    <tr>\n",
       "      <th>118719</th>\n",
       "      <td>The Zen of Proposal Writing: An Expert's Stres...</td>\n",
       "      <td>2002</td>\n",
       "      <td>Kitta Reeds</td>\n",
       "      <td>7.000000</td>\n",
       "      <td>Three Rivers Press (CA)</td>\n",
       "      <td>1</td>\n",
       "      <td>0609806491</td>\n",
       "    </tr>\n",
       "    <tr>\n",
       "      <th>118720</th>\n",
       "      <td>Chorus</td>\n",
       "      <td>2003</td>\n",
       "      <td>Kurt Messick</td>\n",
       "      <td>10.000000</td>\n",
       "      <td>Dry Bones Press</td>\n",
       "      <td>1</td>\n",
       "      <td>1931333246</td>\n",
       "    </tr>\n",
       "  </tbody>\n",
       "</table>\n",
       "<p>118721 rows × 7 columns</p>\n",
       "</div>"
      ],
      "text/plain": [
       "                                               Book-Title  \\\n",
       "0                                    Flesh Tones: A Novel   \n",
       "1                                        Rites of Passage   \n",
       "2                                            The Notebook   \n",
       "3                                          Help!: Level 1   \n",
       "4       The Amsterdam Connection : Level 4 (Cambridge ...   \n",
       "...                                                   ...   \n",
       "118716                       A MARRIAGE MADE AT WOODSTOCK   \n",
       "118717                               The WEIGHT OF WINTER   \n",
       "118718                Time Out Chicago (Time Out Chicago)   \n",
       "118719  The Zen of Proposal Writing: An Expert's Stres...   \n",
       "118720                                             Chorus   \n",
       "\n",
       "        Year-Of-Publication       Book-Author  AVG-Rating  \\\n",
       "0                      2002        M. J. Rose    6.285714   \n",
       "1                      2001        Judith Rae    4.800000   \n",
       "2                      1996   Nicholas Sparks    7.897611   \n",
       "3                      1999     Philip Prowse    3.000000   \n",
       "4                      2001       Sue Leather    6.000000   \n",
       "...                     ...               ...         ...   \n",
       "118716                 1995  Cathie Pelletier    7.000000   \n",
       "118717                 1993  Cathie Pelletier    9.000000   \n",
       "118718                 2000          Time Out    9.000000   \n",
       "118719                 2002       Kitta Reeds    7.000000   \n",
       "118720                 2003      Kurt Messick   10.000000   \n",
       "\n",
       "                         Publisher  Vote-Count        ISBN  \n",
       "0                 Ballantine Books          28  034545104X  \n",
       "1                           Heinle           5  0571117880  \n",
       "2                     Warner Books         293  0446605239  \n",
       "3       Cambridge University Press           1  052165615X  \n",
       "4       Cambridge University Press           1  0521795028  \n",
       "...                            ...         ...         ...  \n",
       "118716     Washington Square Press           1  0671516949  \n",
       "118717     Washington Square Press           1  067179387X  \n",
       "118718               Penguin Books           1  0140290788  \n",
       "118719     Three Rivers Press (CA)           1  0609806491  \n",
       "118720             Dry Bones Press           1  1931333246  \n",
       "\n",
       "[118721 rows x 7 columns]"
      ]
     },
     "execution_count": 16,
     "metadata": {},
     "output_type": "execute_result"
    }
   ],
   "source": [
    "unq_books = pd.read_csv('UniqueBooks.csv', error_bad_lines=False, delimiter=',', encoding = 'ISO-8859-1') \n",
    "unq_books"
   ]
  },
  {
   "cell_type": "markdown",
   "metadata": {},
   "source": [
    "The *Fuzzy Wuzzy* package has functions that allow fuzzy or inexact string inputs to match with the closest value from various options. In this case, the class *process* will be imported and its method *extractOne* will be used for identifying the title searched. To speed up the method execution, installation of python-Levenshtein is suggested. This is an extension module that contains functions for fast computation, but its usage will not be implemented at this phase. If the recommender system is deployed, the implementation of this module is advisable."
   ]
  },
  {
   "cell_type": "code",
   "execution_count": 17,
   "metadata": {},
   "outputs": [
    {
     "name": "stderr",
     "output_type": "stream",
     "text": [
      "C:\\Users\\HOME\\anaconda3\\lib\\site-packages\\fuzzywuzzy\\fuzz.py:11: UserWarning: Using slow pure-python SequenceMatcher. Install python-Levenshtein to remove this warning\n",
      "  warnings.warn('Using slow pure-python SequenceMatcher. Install python-Levenshtein to remove this warning')\n"
     ]
    },
    {
     "name": "stdout",
     "output_type": "stream",
     "text": [
      "Atlantis.\n"
     ]
    }
   ],
   "source": [
    "from fuzzywuzzy import process\n",
    "bookName = process.extractOne(\"Aatlantis\", unq_books['Book-Title'])[0]\n",
    "print(bookName)"
   ]
  },
  {
   "cell_type": "markdown",
   "metadata": {},
   "source": [
    "For example, let us imagine that a user of the system searches for a book and inputs *Aatlantis* in the search bar with a typo. The result after applying the fuzzy wuzzy method is a book with title *Atlantis.*, which is probably what the user has been searching for. It is the closest result to the input, as the word *Atlantis* is included in various book titles, as follows:"
   ]
  },
  {
   "cell_type": "code",
   "execution_count": 18,
   "metadata": {
    "scrolled": false
   },
   "outputs": [
    {
     "data": {
      "text/html": [
       "<div>\n",
       "<style scoped>\n",
       "    .dataframe tbody tr th:only-of-type {\n",
       "        vertical-align: middle;\n",
       "    }\n",
       "\n",
       "    .dataframe tbody tr th {\n",
       "        vertical-align: top;\n",
       "    }\n",
       "\n",
       "    .dataframe thead th {\n",
       "        text-align: right;\n",
       "    }\n",
       "</style>\n",
       "<table border=\"1\" class=\"dataframe\">\n",
       "  <thead>\n",
       "    <tr style=\"text-align: right;\">\n",
       "      <th></th>\n",
       "      <th>Book-Title</th>\n",
       "      <th>Year-Of-Publication</th>\n",
       "      <th>Book-Author</th>\n",
       "      <th>AVG-Rating</th>\n",
       "      <th>Publisher</th>\n",
       "      <th>Vote-Count</th>\n",
       "      <th>ISBN</th>\n",
       "    </tr>\n",
       "  </thead>\n",
       "  <tbody>\n",
       "    <tr>\n",
       "      <th>1415</th>\n",
       "      <td>Atlantis Gate (Atlantis)</td>\n",
       "      <td>2002</td>\n",
       "      <td>Greg Donegan</td>\n",
       "      <td>7.00000</td>\n",
       "      <td>Berkley Publishing Group</td>\n",
       "      <td>2</td>\n",
       "      <td>0425185729</td>\n",
       "    </tr>\n",
       "    <tr>\n",
       "      <th>4041</th>\n",
       "      <td>Hearts In Atlantis</td>\n",
       "      <td>2000</td>\n",
       "      <td>Stephen King</td>\n",
       "      <td>7.60000</td>\n",
       "      <td>Pocket</td>\n",
       "      <td>75</td>\n",
       "      <td>0671024248</td>\n",
       "    </tr>\n",
       "    <tr>\n",
       "      <th>6281</th>\n",
       "      <td>Atlantis Found</td>\n",
       "      <td>2001</td>\n",
       "      <td>Clive Cussler</td>\n",
       "      <td>7.22449</td>\n",
       "      <td>Berkley Publishing Group</td>\n",
       "      <td>49</td>\n",
       "      <td>0425177173</td>\n",
       "    </tr>\n",
       "    <tr>\n",
       "      <th>8055</th>\n",
       "      <td>Atlantis.</td>\n",
       "      <td>1999</td>\n",
       "      <td>Stephen King</td>\n",
       "      <td>8.00000</td>\n",
       "      <td>Heyne GmbH &amp;amp; Co. KG, Verlag</td>\n",
       "      <td>1</td>\n",
       "      <td>3453159926</td>\n",
       "    </tr>\n",
       "    <tr>\n",
       "      <th>8690</th>\n",
       "      <td>Hearts In Atlantis : New Fiction</td>\n",
       "      <td>1999</td>\n",
       "      <td>Stephen King</td>\n",
       "      <td>7.74000</td>\n",
       "      <td>Scribner</td>\n",
       "      <td>50</td>\n",
       "      <td>0684853515</td>\n",
       "    </tr>\n",
       "  </tbody>\n",
       "</table>\n",
       "</div>"
      ],
      "text/plain": [
       "                            Book-Title  Year-Of-Publication    Book-Author  \\\n",
       "1415          Atlantis Gate (Atlantis)                 2002   Greg Donegan   \n",
       "4041                Hearts In Atlantis                 2000   Stephen King   \n",
       "6281                    Atlantis Found                 2001  Clive Cussler   \n",
       "8055                         Atlantis.                 1999   Stephen King   \n",
       "8690  Hearts In Atlantis : New Fiction                 1999   Stephen King   \n",
       "\n",
       "      AVG-Rating                        Publisher  Vote-Count        ISBN  \n",
       "1415     7.00000         Berkley Publishing Group           2  0425185729  \n",
       "4041     7.60000                           Pocket          75  0671024248  \n",
       "6281     7.22449         Berkley Publishing Group          49  0425177173  \n",
       "8055     8.00000  Heyne GmbH &amp; Co. KG, Verlag           1  3453159926  \n",
       "8690     7.74000                         Scribner          50  0684853515  "
      ]
     },
     "execution_count": 18,
     "metadata": {},
     "output_type": "execute_result"
    }
   ],
   "source": [
    "unq_books[unq_books['Book-Title'].str.contains(\"Atlantis\")].head()"
   ]
  },
  {
   "cell_type": "markdown",
   "metadata": {},
   "source": [
    "After identifying the book title, the id of the user will be randomly selected:"
   ]
  },
  {
   "cell_type": "code",
   "execution_count": 19,
   "metadata": {},
   "outputs": [
    {
     "name": "stdout",
     "output_type": "stream",
     "text": [
      "The generated user is with id: 162713\n"
     ]
    }
   ],
   "source": [
    "userId = pd.Series([np.random.choice(df['User-ID'],1)[0]])[0]\n",
    "print(\"The generated user is with id: {}\".format(userId))"
   ]
  },
  {
   "cell_type": "markdown",
   "metadata": {},
   "source": [
    "Now, it is time to predict what rating this user would give to the book *Atlantis.* using the SVD model:"
   ]
  },
  {
   "cell_type": "code",
   "execution_count": 20,
   "metadata": {},
   "outputs": [
    {
     "data": {
      "text/plain": [
       "Prediction(uid=162713, iid='Atlantis.', r_ui=None, est=7.741285824941905, details={'was_impossible': False})"
      ]
     },
     "execution_count": 20,
     "metadata": {},
     "output_type": "execute_result"
    }
   ],
   "source": [
    "user_rating_prediction = model.predict(userId, bookName)\n",
    "user_rating_prediction"
   ]
  },
  {
   "cell_type": "code",
   "execution_count": 21,
   "metadata": {},
   "outputs": [
    {
     "name": "stdout",
     "output_type": "stream",
     "text": [
      "The model predicted a rating of 7.74\n"
     ]
    }
   ],
   "source": [
    "print(\"The model predicted a rating of {:,.2f}\".format(user_rating_prediction[3]))"
   ]
  },
  {
   "cell_type": "markdown",
   "metadata": {},
   "source": [
    "Try out a few other predictions of books that have already been rated by a user. For instance, get a few rating inputs of the following user:"
   ]
  },
  {
   "cell_type": "code",
   "execution_count": 22,
   "metadata": {
    "scrolled": false
   },
   "outputs": [
    {
     "data": {
      "text/html": [
       "<div>\n",
       "<style scoped>\n",
       "    .dataframe tbody tr th:only-of-type {\n",
       "        vertical-align: middle;\n",
       "    }\n",
       "\n",
       "    .dataframe tbody tr th {\n",
       "        vertical-align: top;\n",
       "    }\n",
       "\n",
       "    .dataframe thead th {\n",
       "        text-align: right;\n",
       "    }\n",
       "</style>\n",
       "<table border=\"1\" class=\"dataframe\">\n",
       "  <thead>\n",
       "    <tr style=\"text-align: right;\">\n",
       "      <th></th>\n",
       "      <th>User-ID</th>\n",
       "      <th>ISBN</th>\n",
       "      <th>Book-Rating</th>\n",
       "      <th>AVG-Rating</th>\n",
       "      <th>Vote-Count</th>\n",
       "      <th>City</th>\n",
       "      <th>State</th>\n",
       "      <th>Country</th>\n",
       "      <th>Age-Range</th>\n",
       "      <th>Book-Title</th>\n",
       "      <th>Book-Author</th>\n",
       "      <th>Year-Of-Publication</th>\n",
       "      <th>Publisher</th>\n",
       "    </tr>\n",
       "  </thead>\n",
       "  <tbody>\n",
       "    <tr>\n",
       "      <th>762</th>\n",
       "      <td>6251</td>\n",
       "      <td>043935806X</td>\n",
       "      <td>9</td>\n",
       "      <td>9.047393</td>\n",
       "      <td>211</td>\n",
       "      <td>wahiawa</td>\n",
       "      <td>hawaii</td>\n",
       "      <td>usa</td>\n",
       "      <td>30-34</td>\n",
       "      <td>Harry Potter and the Order of the Phoenix (Boo...</td>\n",
       "      <td>J. K. Rowling</td>\n",
       "      <td>2003</td>\n",
       "      <td>Scholastic</td>\n",
       "    </tr>\n",
       "    <tr>\n",
       "      <th>1187</th>\n",
       "      <td>6251</td>\n",
       "      <td>0440498058</td>\n",
       "      <td>10</td>\n",
       "      <td>8.876543</td>\n",
       "      <td>81</td>\n",
       "      <td>wahiawa</td>\n",
       "      <td>hawaii</td>\n",
       "      <td>usa</td>\n",
       "      <td>30-34</td>\n",
       "      <td>A Wrinkle In Time</td>\n",
       "      <td>MADELEINE L'ENGLE</td>\n",
       "      <td>1998</td>\n",
       "      <td>Yearling</td>\n",
       "    </tr>\n",
       "    <tr>\n",
       "      <th>1415</th>\n",
       "      <td>6251</td>\n",
       "      <td>0786817070</td>\n",
       "      <td>8</td>\n",
       "      <td>7.719626</td>\n",
       "      <td>107</td>\n",
       "      <td>wahiawa</td>\n",
       "      <td>hawaii</td>\n",
       "      <td>usa</td>\n",
       "      <td>30-34</td>\n",
       "      <td>Artemis Fowl (Artemis Fowl, Book 1)</td>\n",
       "      <td>Eoin Colfer</td>\n",
       "      <td>2002</td>\n",
       "      <td>Miramax Kids</td>\n",
       "    </tr>\n",
       "    <tr>\n",
       "      <th>2681</th>\n",
       "      <td>6251</td>\n",
       "      <td>1566911605</td>\n",
       "      <td>10</td>\n",
       "      <td>10.000000</td>\n",
       "      <td>1</td>\n",
       "      <td>wahiawa</td>\n",
       "      <td>hawaii</td>\n",
       "      <td>usa</td>\n",
       "      <td>30-34</td>\n",
       "      <td>Moon Handbooks: Hawaii</td>\n",
       "      <td>J. D. Bisignani</td>\n",
       "      <td>1999</td>\n",
       "      <td>Moon Travel Handbooks</td>\n",
       "    </tr>\n",
       "    <tr>\n",
       "      <th>5172</th>\n",
       "      <td>6251</td>\n",
       "      <td>0380977788</td>\n",
       "      <td>8</td>\n",
       "      <td>8.164948</td>\n",
       "      <td>97</td>\n",
       "      <td>wahiawa</td>\n",
       "      <td>hawaii</td>\n",
       "      <td>usa</td>\n",
       "      <td>30-34</td>\n",
       "      <td>Coraline</td>\n",
       "      <td>Neil Gaiman</td>\n",
       "      <td>2003</td>\n",
       "      <td>HarperTrophy</td>\n",
       "    </tr>\n",
       "  </tbody>\n",
       "</table>\n",
       "</div>"
      ],
      "text/plain": [
       "      User-ID        ISBN  Book-Rating  AVG-Rating  Vote-Count     City  \\\n",
       "762      6251  043935806X            9    9.047393         211  wahiawa   \n",
       "1187     6251  0440498058           10    8.876543          81  wahiawa   \n",
       "1415     6251  0786817070            8    7.719626         107  wahiawa   \n",
       "2681     6251  1566911605           10   10.000000           1  wahiawa   \n",
       "5172     6251  0380977788            8    8.164948          97  wahiawa   \n",
       "\n",
       "       State Country Age-Range  \\\n",
       "762   hawaii     usa     30-34   \n",
       "1187  hawaii     usa     30-34   \n",
       "1415  hawaii     usa     30-34   \n",
       "2681  hawaii     usa     30-34   \n",
       "5172  hawaii     usa     30-34   \n",
       "\n",
       "                                             Book-Title        Book-Author  \\\n",
       "762   Harry Potter and the Order of the Phoenix (Boo...      J. K. Rowling   \n",
       "1187                                  A Wrinkle In Time  MADELEINE L'ENGLE   \n",
       "1415                Artemis Fowl (Artemis Fowl, Book 1)        Eoin Colfer   \n",
       "2681                             Moon Handbooks: Hawaii    J. D. Bisignani   \n",
       "5172                                           Coraline        Neil Gaiman   \n",
       "\n",
       "      Year-Of-Publication              Publisher  \n",
       "762                  2003             Scholastic  \n",
       "1187                 1998               Yearling  \n",
       "1415                 2002           Miramax Kids  \n",
       "2681                 1999  Moon Travel Handbooks  \n",
       "5172                 2003           HarperTrophy  "
      ]
     },
     "execution_count": 22,
     "metadata": {},
     "output_type": "execute_result"
    }
   ],
   "source": [
    "user_ratings = df[df['User-ID'] == 6251].head(5)\n",
    "user_ratings"
   ]
  },
  {
   "cell_type": "markdown",
   "metadata": {},
   "source": [
    "Use the model to predict the rating of the first book:"
   ]
  },
  {
   "cell_type": "code",
   "execution_count": 23,
   "metadata": {},
   "outputs": [
    {
     "name": "stdout",
     "output_type": "stream",
     "text": [
      "The model predicted a rating of 9.59\n"
     ]
    }
   ],
   "source": [
    "user = \"6251\"\n",
    "book = \"Harry Potter and the Order of the Phoenix (Book 5)\"\n",
    "user_rating_prediction = model.predict(user, book)\n",
    "print(\"The model predicted a rating of {:,.2f}\".format(user_rating_prediction[3]))"
   ]
  },
  {
   "cell_type": "markdown",
   "metadata": {},
   "source": [
    "The predicted rating is just like the actual. If this user so highly rated this book, he/she would most certainly rate high other Harry Potter books, too. This is a good way to observe the behavior of the trained model."
   ]
  },
  {
   "cell_type": "markdown",
   "metadata": {},
   "source": [
    "Check whether the user has read all Harry Potter books:"
   ]
  },
  {
   "cell_type": "code",
   "execution_count": 24,
   "metadata": {},
   "outputs": [
    {
     "data": {
      "text/html": [
       "<div>\n",
       "<style scoped>\n",
       "    .dataframe tbody tr th:only-of-type {\n",
       "        vertical-align: middle;\n",
       "    }\n",
       "\n",
       "    .dataframe tbody tr th {\n",
       "        vertical-align: top;\n",
       "    }\n",
       "\n",
       "    .dataframe thead th {\n",
       "        text-align: right;\n",
       "    }\n",
       "</style>\n",
       "<table border=\"1\" class=\"dataframe\">\n",
       "  <thead>\n",
       "    <tr style=\"text-align: right;\">\n",
       "      <th></th>\n",
       "      <th>User-ID</th>\n",
       "      <th>ISBN</th>\n",
       "      <th>Book-Rating</th>\n",
       "      <th>AVG-Rating</th>\n",
       "      <th>Vote-Count</th>\n",
       "      <th>City</th>\n",
       "      <th>State</th>\n",
       "      <th>Country</th>\n",
       "      <th>Age-Range</th>\n",
       "      <th>Book-Title</th>\n",
       "      <th>Book-Author</th>\n",
       "      <th>Year-Of-Publication</th>\n",
       "      <th>Publisher</th>\n",
       "    </tr>\n",
       "  </thead>\n",
       "  <tbody>\n",
       "    <tr>\n",
       "      <th>762</th>\n",
       "      <td>6251</td>\n",
       "      <td>043935806X</td>\n",
       "      <td>9</td>\n",
       "      <td>9.047393</td>\n",
       "      <td>211</td>\n",
       "      <td>wahiawa</td>\n",
       "      <td>hawaii</td>\n",
       "      <td>usa</td>\n",
       "      <td>30-34</td>\n",
       "      <td>Harry Potter and the Order of the Phoenix (Boo...</td>\n",
       "      <td>J. K. Rowling</td>\n",
       "      <td>2003</td>\n",
       "      <td>Scholastic</td>\n",
       "    </tr>\n",
       "  </tbody>\n",
       "</table>\n",
       "</div>"
      ],
      "text/plain": [
       "     User-ID        ISBN  Book-Rating  AVG-Rating  Vote-Count     City  \\\n",
       "762     6251  043935806X            9    9.047393         211  wahiawa   \n",
       "\n",
       "      State Country Age-Range  \\\n",
       "762  hawaii     usa     30-34   \n",
       "\n",
       "                                            Book-Title    Book-Author  \\\n",
       "762  Harry Potter and the Order of the Phoenix (Boo...  J. K. Rowling   \n",
       "\n",
       "     Year-Of-Publication   Publisher  \n",
       "762                 2003  Scholastic  "
      ]
     },
     "execution_count": 24,
     "metadata": {},
     "output_type": "execute_result"
    }
   ],
   "source": [
    "user_ratings[user_ratings['Book-Title'].str.contains(\"Harry Potter\")].head()"
   ]
  },
  {
   "cell_type": "markdown",
   "metadata": {},
   "source": [
    "Fortunately, the user has not. Now, this is a good foundation for trying out the model:"
   ]
  },
  {
   "cell_type": "code",
   "execution_count": 25,
   "metadata": {},
   "outputs": [
    {
     "name": "stdout",
     "output_type": "stream",
     "text": [
      "The model predicted a rating of 9.34 for 'Harry Potter and the Prisoner of Azkaban (Book 3)'\n"
     ]
    }
   ],
   "source": [
    "user = \"6251\"\n",
    "book = \"Harry Potter and the Prisoner of Azkaban (Book 3)\"\n",
    "user_rating_prediction = model.predict(user, book)\n",
    "print(\"The model predicted a rating of {:,.2f} for '{}'\".format(user_rating_prediction[3], book))"
   ]
  },
  {
   "cell_type": "code",
   "execution_count": 26,
   "metadata": {},
   "outputs": [
    {
     "name": "stdout",
     "output_type": "stream",
     "text": [
      "The model predicted a rating of 9.25 for 'Harry Potter and the Goblet of Fire (Book 4)'\n"
     ]
    }
   ],
   "source": [
    "user = \"6251\"\n",
    "book = \"Harry Potter and the Goblet of Fire (Book 4)\"\n",
    "user_rating_prediction = model.predict(user, book)\n",
    "print(\"The model predicted a rating of {:,.2f} for '{}'\".format(user_rating_prediction[3], book))"
   ]
  },
  {
   "cell_type": "code",
   "execution_count": 27,
   "metadata": {},
   "outputs": [
    {
     "name": "stdout",
     "output_type": "stream",
     "text": [
      "The model predicted a rating of 9.22 for 'Harry Potter and the Chamber of Secrets (Book 2)'\n"
     ]
    }
   ],
   "source": [
    "user = \"6251\"\n",
    "book = \"Harry Potter and the Chamber of Secrets (Book 2)\"\n",
    "user_rating_prediction = model.predict(user, book)\n",
    "print(\"The model predicted a rating of {:,.2f} for '{}'\".format(user_rating_prediction[3], book))"
   ]
  },
  {
   "cell_type": "markdown",
   "metadata": {},
   "source": [
    "The results are highly satisfying. This individual rating prediction feature of the system is valuable and might be a game changer after integration."
   ]
  },
  {
   "cell_type": "markdown",
   "metadata": {},
   "source": [
    "#### Suggest books to read next "
   ]
  },
  {
   "cell_type": "markdown",
   "metadata": {},
   "source": [
    "Furthermore, this feature may be used to generate personal recommendations regarding which books to read next. This can be done by going through all book titles and estimating rating prediction for a given user. "
   ]
  },
  {
   "cell_type": "markdown",
   "metadata": {},
   "source": [
    "The first step to achieve this is to exclude those books that have already been read and rated by the user specified. Then, use the model to generate predictions for each not rated book. Finally, extract the top 10 books with highest rating. \n",
    "\n",
    "\n",
    "In this case, stick to the user with id *6251*:"
   ]
  },
  {
   "cell_type": "code",
   "execution_count": 28,
   "metadata": {},
   "outputs": [],
   "source": [
    "def generate_recommended_books_for_user(user_id: int) -> pd.DataFrame:\n",
    "    \n",
    "    # Get all rows with rating inputs from the user\n",
    "    rated_books = df[df['User-ID'] == user_id]\n",
    "\n",
    "    # Iterate through all books and remove the books present in the rated_books extract\n",
    "    notrated_books = unq_books\n",
    "    counter = 0\n",
    "    for book in notrated_books['Book-Title']:\n",
    "            for rated_book in rated_books['Book-Title']:\n",
    "                if(book.lower().strip().replace('s/+',\"\") == rated_book.lower().strip().replace('s/+',\"\")):\n",
    "                    counter += 1\n",
    "                    rated_books = rated_books[rated_books['Book-Title'].replace('s/+',\"\") != rated_book.replace('s/+',\"\")]\n",
    "                    notrated_books = notrated_books[notrated_books['Book-Title'].replace('s/+',\"\") != book.replace('s/+',\"\")]\n",
    "                    break\n",
    "                \n",
    "    \n",
    "    # Estimate ratings for each not rated book\n",
    "    results = []\n",
    "    for book_title in notrated_books['Book-Title']:\n",
    "        \n",
    "        # For each book, calculate score prediction \n",
    "        prediction = model.predict(user_id, book_title)\n",
    "        results.append((prediction.est, book_title))\n",
    "       \n",
    "    return pd.DataFrame(results, columns=['Estimated Prediction', 'Book Title'])\n",
    "\n",
    "\n",
    "# Call the method to generate some recommendations for a user\n",
    "recommendations = generate_recommended_books_for_user(6251)"
   ]
  },
  {
   "cell_type": "code",
   "execution_count": 29,
   "metadata": {},
   "outputs": [],
   "source": [
    "from IPython.display import display, HTML, Markdown\n",
    "\n",
    "import warnings\n",
    "warnings.filterwarnings('ignore')\n",
    "\n",
    "\n",
    "def display_best_recommendations(recommendations: pd.DataFrame):\n",
    "    \"\"\"Return a DataFrame containing recommendations for the user, and the\n",
    "    associated score\n",
    "    \"\"\"\n",
    "    recommendations.sort_values('Estimated Prediction', ascending=False, inplace=True)\n",
    "\n",
    "    top_recommendations = recommendations.iloc[:10]\n",
    "    top_recommendations.columns = ['Prediction (sorted by best)', 'Book Title']\n",
    "\n",
    "    display(HTML(\"<h1>Recommendations your user will love</h1>\"))\n",
    "    display(top_recommendations)"
   ]
  },
  {
   "cell_type": "code",
   "execution_count": 30,
   "metadata": {},
   "outputs": [
    {
     "data": {
      "text/html": [
       "<h1>Recommendations your user will love</h1>"
      ],
      "text/plain": [
       "<IPython.core.display.HTML object>"
      ]
     },
     "metadata": {},
     "output_type": "display_data"
    },
    {
     "data": {
      "text/html": [
       "<div>\n",
       "<style scoped>\n",
       "    .dataframe tbody tr th:only-of-type {\n",
       "        vertical-align: middle;\n",
       "    }\n",
       "\n",
       "    .dataframe tbody tr th {\n",
       "        vertical-align: top;\n",
       "    }\n",
       "\n",
       "    .dataframe thead th {\n",
       "        text-align: right;\n",
       "    }\n",
       "</style>\n",
       "<table border=\"1\" class=\"dataframe\">\n",
       "  <thead>\n",
       "    <tr style=\"text-align: right;\">\n",
       "      <th></th>\n",
       "      <th>Prediction (sorted by best)</th>\n",
       "      <th>Book Title</th>\n",
       "    </tr>\n",
       "  </thead>\n",
       "  <tbody>\n",
       "    <tr>\n",
       "      <th>348</th>\n",
       "      <td>8.840318</td>\n",
       "      <td>Harry Potter and the Sorcerer's Stone (Harry P...</td>\n",
       "    </tr>\n",
       "    <tr>\n",
       "      <th>980</th>\n",
       "      <td>8.778157</td>\n",
       "      <td>A Prayer for Owen Meany</td>\n",
       "    </tr>\n",
       "    <tr>\n",
       "      <th>363</th>\n",
       "      <td>8.727342</td>\n",
       "      <td>To Kill a Mockingbird</td>\n",
       "    </tr>\n",
       "    <tr>\n",
       "      <th>1849</th>\n",
       "      <td>8.665713</td>\n",
       "      <td>The Bean Trees</td>\n",
       "    </tr>\n",
       "    <tr>\n",
       "      <th>2612</th>\n",
       "      <td>8.650743</td>\n",
       "      <td>The Pact: A Love Story</td>\n",
       "    </tr>\n",
       "    <tr>\n",
       "      <th>293</th>\n",
       "      <td>8.614883</td>\n",
       "      <td>Harry Potter and the Chamber of Secrets (Book 2)</td>\n",
       "    </tr>\n",
       "    <tr>\n",
       "      <th>540</th>\n",
       "      <td>8.612156</td>\n",
       "      <td>Fahrenheit 451</td>\n",
       "    </tr>\n",
       "    <tr>\n",
       "      <th>492</th>\n",
       "      <td>8.588465</td>\n",
       "      <td>Restaurant At the End of the Universe</td>\n",
       "    </tr>\n",
       "    <tr>\n",
       "      <th>233</th>\n",
       "      <td>8.559134</td>\n",
       "      <td>The Da Vinci Code</td>\n",
       "    </tr>\n",
       "    <tr>\n",
       "      <th>1105</th>\n",
       "      <td>8.530528</td>\n",
       "      <td>The Fountainhead</td>\n",
       "    </tr>\n",
       "  </tbody>\n",
       "</table>\n",
       "</div>"
      ],
      "text/plain": [
       "      Prediction (sorted by best)  \\\n",
       "348                      8.840318   \n",
       "980                      8.778157   \n",
       "363                      8.727342   \n",
       "1849                     8.665713   \n",
       "2612                     8.650743   \n",
       "293                      8.614883   \n",
       "540                      8.612156   \n",
       "492                      8.588465   \n",
       "233                      8.559134   \n",
       "1105                     8.530528   \n",
       "\n",
       "                                             Book Title  \n",
       "348   Harry Potter and the Sorcerer's Stone (Harry P...  \n",
       "980                             A Prayer for Owen Meany  \n",
       "363                               To Kill a Mockingbird  \n",
       "1849                                     The Bean Trees  \n",
       "2612                             The Pact: A Love Story  \n",
       "293    Harry Potter and the Chamber of Secrets (Book 2)  \n",
       "540                                      Fahrenheit 451  \n",
       "492               Restaurant At the End of the Universe  \n",
       "233                                   The Da Vinci Code  \n",
       "1105                                   The Fountainhead  "
      ]
     },
     "metadata": {},
     "output_type": "display_data"
    }
   ],
   "source": [
    "display_best_recommendations(recommendations)"
   ]
  },
  {
   "cell_type": "markdown",
   "metadata": {},
   "source": [
    "----------"
   ]
  },
  {
   "cell_type": "markdown",
   "metadata": {},
   "source": [
    "### Model Evaluation"
   ]
  },
  {
   "cell_type": "markdown",
   "metadata": {},
   "source": [
    "#### MSE & RMSE Evaluation Metrics\n",
    "The MAE and the RMSE can be used together to diagnose the variation in the errors in a set of forecasts. The RMSE will always be larger or equal to the MAE; the greater difference between them, the greater the variance in the individual errors in the sample. Both the MAE and RMSE can range from 0 to ∞. Lower values are better.\n",
    "##### Sources: www.eumetrain.org/data/4/451/english/msg/ver_cont_var/uos3/uos3_ko1.htm & www.i2tutorials.com/differences-between-mse-and-rmse/"
   ]
  },
  {
   "cell_type": "markdown",
   "metadata": {},
   "source": [
    "The Mean Square Error (MSE) measure for accuracy square is calculated in the following way:"
   ]
  },
  {
   "cell_type": "code",
   "execution_count": 31,
   "metadata": {},
   "outputs": [
    {
     "data": {
      "image/jpeg": "[encoded data removed]",
      "text/plain": [
       "<IPython.core.display.Image object>"
      ]
     },
     "execution_count": 31,
     "metadata": {},
     "output_type": "execute_result"
    }
   ],
   "source": [
    "from IPython.display import Image\n",
    "Image(\"MSE.jpg\")"
   ]
  },
  {
   "cell_type": "markdown",
   "metadata": {},
   "source": [
    "The MSE formula represents the difference between the original and predicted values which are extracted by squaring the average difference over the data set. It is a measure of how close a fitted line is to actual data points. The lesser the Mean Squared Error, the closer the fit is to the data set."
   ]
  },
  {
   "cell_type": "markdown",
   "metadata": {},
   "source": [
    "RMSE (Root Mean Squared Error) is the error rate by the square root of MSE. Since the errors are squared before they are averaged, the RMSE gives a relatively high weight to large errors. This means the RMSE is most useful when large errors are particularly undesirable. The RMSE is calculated with the following formula:"
   ]
  },
  {
   "cell_type": "code",
   "execution_count": 32,
   "metadata": {},
   "outputs": [
    {
     "data": {
      "image/png": "[encoded data removed]",
      "text/plain": [
       "<IPython.core.display.Image object>"
      ]
     },
     "execution_count": 32,
     "metadata": {},
     "output_type": "execute_result"
    }
   ],
   "source": [
    "Image(\"RMSE_Formula.png\")"
   ]
  },
  {
   "cell_type": "markdown",
   "metadata": {},
   "source": [
    "Focus is going to be put on RMSE for this modeling as the aimed result is to predict a rating as close to the actual as possible. Therefore, large differences between actual and predicted values are undesired and the RMSE results would allow their detection more accurately compared to MSE results."
   ]
  },
  {
   "cell_type": "markdown",
   "metadata": {},
   "source": [
    "To begin with, let us calculate the RMSE of the test set after having trained the SVD model with the training data."
   ]
  },
  {
   "cell_type": "code",
   "execution_count": 33,
   "metadata": {
    "scrolled": true
   },
   "outputs": [
    {
     "name": "stdout",
     "output_type": "stream",
     "text": [
      "RMSE: 1.7131\n"
     ]
    }
   ],
   "source": [
    "# Optionally, validate the RMSE (root-mean-square error) to ensure model training was effective\n",
    "predictions = model.test(testset)\n",
    "rmse = accuracy.rmse(predictions)"
   ]
  },
  {
   "cell_type": "markdown",
   "metadata": {},
   "source": [
    "The RMSE result is larger than 1. Common variations are between 0 and 1. The reason behind the unusual RMSE result might be connected to some data transormations in the model. For example, Singular Value Decomposition (SVD), which is the model used, applies vectorization of the variables along with matrix factorization. In addition, linear transformations might also take place. When such modifications are present, a solution to overcome such barriers is normalizing the RMSE. In brief, apply the NRMSE (Normalized RMSE). One way to do this is to normalize by the mean, in other words divide the RMSE score by the average rating as response variable."
   ]
  },
  {
   "cell_type": "markdown",
   "metadata": {},
   "source": [
    "Calculate the average rating:"
   ]
  },
  {
   "cell_type": "code",
   "execution_count": 34,
   "metadata": {},
   "outputs": [
    {
     "data": {
      "text/plain": [
       "7.731216111541441"
      ]
     },
     "execution_count": 34,
     "metadata": {},
     "output_type": "execute_result"
    }
   ],
   "source": [
    "values = 0\n",
    "for x in testset:\n",
    "    values += x[2]\n",
    "values\n",
    "\n",
    "size = len(testset)\n",
    "size\n",
    "\n",
    "avg = values / size\n",
    "avg"
   ]
  },
  {
   "cell_type": "code",
   "execution_count": 35,
   "metadata": {},
   "outputs": [
    {
     "data": {
      "text/plain": [
       "0.22158374896364136"
      ]
     },
     "execution_count": 35,
     "metadata": {},
     "output_type": "execute_result"
    }
   ],
   "source": [
    "norm_rmse = rmse / avg\n",
    "norm_rmse"
   ]
  },
  {
   "cell_type": "markdown",
   "metadata": {},
   "source": [
    "The results are highly satisfying. The closer the score to 0, the better, which means the smaller the errors. "
   ]
  },
  {
   "cell_type": "markdown",
   "metadata": {},
   "source": [
    "#### Assess the model performance using cross validation. \n",
    "\n",
    "\n",
    "As there is never enough data to train your model, removing a part of it for testing and validation poses a problem of underfitting. By reducing the training data, we risk losing important patterns/trends in data set, which in turn increases error induced by bias. So, what we require is a method that provides ample data for training the model and also leaves ample data for validation.\n",
    "##### Source: https://towardsdatascience.com/cross-validation-in-machine-learning-72924a69872f"
   ]
  },
  {
   "cell_type": "markdown",
   "metadata": {},
   "source": [
    "What the following method *cross_validate* does is that it divides the data into 5 subsets, which is a usually preferred splitting number. Then, the holdout method is repeated 5 times, such that each time, one of the subsets is used as the test set/validation set and the other 4 subsets are put together to form a training set. The error estimation is averaged over all 5 trials to get total effectiveness of our model. In this way, every data point gets to be in a validation set exactly once, and gets to be in a training set 4 times. This significantly reduces bias as most of the data is used for fitting, and also significantly reduces variance as most of the data is also being used in validation set. Interchanging the training and test sets also adds to the effectiveness of this method.\n",
    "\n",
    "\n",
    "Finally, the results are as follows:"
   ]
  },
  {
   "cell_type": "code",
   "execution_count": 36,
   "metadata": {},
   "outputs": [
    {
     "name": "stdout",
     "output_type": "stream",
     "text": [
      "Evaluating RMSE, MAE of algorithm SVD on 5 split(s).\n",
      "\n",
      "                  Fold 1  Fold 2  Fold 3  Fold 4  Fold 5  Mean    Std     \n",
      "RMSE (testset)    1.6896  1.7241  1.7012  1.7192  1.7187  1.7106  0.0130  \n",
      "MAE (testset)     1.3228  1.3471  1.3333  1.3412  1.3623  1.3414  0.0133  \n",
      "Fit time          0.59    0.57    0.57    0.57    0.58    0.58    0.01    \n",
      "Test time         0.02    0.01    0.01    0.02    0.02    0.01    0.00    \n"
     ]
    },
    {
     "data": {
      "text/plain": [
       "{'test_rmse': array([1.68959403, 1.72414653, 1.70123036, 1.71915978, 1.71866282]),\n",
       " 'test_mae': array([1.32282565, 1.34714644, 1.33334211, 1.34123479, 1.36227835]),\n",
       " 'fit_time': (0.5863831043243408,\n",
       "  0.5731334686279297,\n",
       "  0.5736215114593506,\n",
       "  0.5736880302429199,\n",
       "  0.5764977931976318),\n",
       " 'test_time': (0.015708208084106445,\n",
       "  0.013976573944091797,\n",
       "  0.013996124267578125,\n",
       "  0.015003204345703125,\n",
       "  0.016000986099243164)}"
      ]
     },
     "execution_count": 36,
     "metadata": {},
     "output_type": "execute_result"
    }
   ],
   "source": [
    "cross_validate(model, data, cv=5, verbose=True)"
   ]
  },
  {
   "cell_type": "markdown",
   "metadata": {},
   "source": [
    "The mean RMSE result is similar to the RMSE of the test set above before normalization (~ 1.7). Therefore, the normalized RMSE score would also be highly satisfying due to the fact that most commonly ratings of 7 and above are given as shown below. This means that the rmse from each fold would be divided by a high average rating value, as the average rating value throughout the whole dataset extraction used for the algorithm is close to 8, and the NRMSE results would also be close to these of the test set above (~ 0.2). In any case, they would hardly be above 0.4 as in worst scenario the normalization of the mean RMSE result (~ 1.7) after cross validation would give a result of ~0.34 if divided by average rating of 5 and a result of ~0.425 if divided by 4."
   ]
  },
  {
   "cell_type": "code",
   "execution_count": 37,
   "metadata": {},
   "outputs": [
    {
     "name": "stdout",
     "output_type": "stream",
     "text": [
      "Average book rating: 7.738768396591789\n"
     ]
    }
   ],
   "source": [
    "print(\"Average book rating: {}\".format(df_xtrct['rating'].mean()))"
   ]
  },
  {
   "cell_type": "code",
   "execution_count": 38,
   "metadata": {},
   "outputs": [
    {
     "data": {
      "image/png": "[encoded data removed]",
      "text/plain": [
       "<Figure size 720x576 with 1 Axes>"
      ]
     },
     "metadata": {
      "needs_background": "light"
     },
     "output_type": "display_data"
    }
   ],
   "source": [
    "df_rat=df_xtrct[['rating']].copy()\n",
    "df_rat.dtypes\n",
    "df_rat = df_rat[df_rat['rating'] != 0]\n",
    "plt.figure(figsize=(10,8))\n",
    "sns.countplot(x='rating',data=df_rat)\n",
    "plt.title('Rating Distribution',size=20)\n",
    "plt.show()"
   ]
  },
  {
   "cell_type": "markdown",
   "metadata": {},
   "source": [
    "Taking into consideration all results shown above, our model can be considered effective and highly accurate."
   ]
  }
 ],
 "metadata": {
  "kernelspec": {
   "display_name": "Python 3",
   "language": "python",
   "name": "python3"
  },
  "language_info": {
   "codemirror_mode": {
    "name": "ipython",
    "version": 3
   },
   "file_extension": ".py",
   "mimetype": "text/x-python",
   "name": "python",
   "nbconvert_exporter": "python",
   "pygments_lexer": "ipython3",
   "version": "3.8.5"
  }
 },
 "nbformat": 4,
 "nbformat_minor": 4
}

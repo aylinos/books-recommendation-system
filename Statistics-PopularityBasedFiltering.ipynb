{
 "cells": [
  {
   "cell_type": "markdown",
   "metadata": {},
   "source": [
    "# General Book Recommendations "
   ]
  },
  {
   "cell_type": "markdown",
   "metadata": {},
   "source": [
    "### Popularity-based Filtering\n",
    "Offer generalized recommendations to each user, based on popularity and high rating. This is a basic method, which is built on the vision that more popular and critically acclaimed books will have a higher probability of being liked by the average audience."
   ]
  },
  {
   "cell_type": "markdown",
   "metadata": {},
   "source": [
    "### Libraries:"
   ]
  },
  {
   "cell_type": "code",
   "execution_count": 1,
   "metadata": {},
   "outputs": [],
   "source": [
    "import pandas as pd\n",
    "import numpy as np\n",
    "import matplotlib\n",
    "import matplotlib.pyplot as plt\n",
    "import seaborn as sns\n",
    "%matplotlib inline"
   ]
  },
  {
   "cell_type": "markdown",
   "metadata": {},
   "source": [
    "## Visualization enhancement\n",
    "Adjust plots size for better visualization experience."
   ]
  },
  {
   "cell_type": "markdown",
   "metadata": {},
   "source": [
    "#### Increase the size of plots to be able to see detailed visualizations clear"
   ]
  },
  {
   "cell_type": "code",
   "execution_count": 2,
   "metadata": {},
   "outputs": [],
   "source": [
    "plt.rcParams[\"figure.figsize\"] = [25, 10]\n",
    "plt.rcParams.update({'font.size': 24})"
   ]
  },
  {
   "cell_type": "markdown",
   "metadata": {},
   "source": [
    "### Dataset"
   ]
  },
  {
   "cell_type": "code",
   "execution_count": 3,
   "metadata": {},
   "outputs": [
    {
     "data": {
      "text/html": [
       "<div>\n",
       "<style scoped>\n",
       "    .dataframe tbody tr th:only-of-type {\n",
       "        vertical-align: middle;\n",
       "    }\n",
       "\n",
       "    .dataframe tbody tr th {\n",
       "        vertical-align: top;\n",
       "    }\n",
       "\n",
       "    .dataframe thead th {\n",
       "        text-align: right;\n",
       "    }\n",
       "</style>\n",
       "<table border=\"1\" class=\"dataframe\">\n",
       "  <thead>\n",
       "    <tr style=\"text-align: right;\">\n",
       "      <th></th>\n",
       "      <th>Book-Title</th>\n",
       "      <th>Year-Of-Publication</th>\n",
       "      <th>Book-Author</th>\n",
       "      <th>AVG-Rating</th>\n",
       "      <th>Publisher</th>\n",
       "      <th>Vote-Count</th>\n",
       "      <th>ISBN</th>\n",
       "    </tr>\n",
       "  </thead>\n",
       "  <tbody>\n",
       "    <tr>\n",
       "      <th>0</th>\n",
       "      <td>Flesh Tones: A Novel</td>\n",
       "      <td>2002</td>\n",
       "      <td>M. J. Rose</td>\n",
       "      <td>6.285714</td>\n",
       "      <td>Ballantine Books</td>\n",
       "      <td>28</td>\n",
       "      <td>034545104X</td>\n",
       "    </tr>\n",
       "    <tr>\n",
       "      <th>1</th>\n",
       "      <td>Rites of Passage</td>\n",
       "      <td>2001</td>\n",
       "      <td>Judith Rae</td>\n",
       "      <td>4.800000</td>\n",
       "      <td>Heinle</td>\n",
       "      <td>5</td>\n",
       "      <td>0571117880</td>\n",
       "    </tr>\n",
       "    <tr>\n",
       "      <th>2</th>\n",
       "      <td>The Notebook</td>\n",
       "      <td>1996</td>\n",
       "      <td>Nicholas Sparks</td>\n",
       "      <td>7.897611</td>\n",
       "      <td>Warner Books</td>\n",
       "      <td>293</td>\n",
       "      <td>0446605239</td>\n",
       "    </tr>\n",
       "    <tr>\n",
       "      <th>3</th>\n",
       "      <td>Help!: Level 1</td>\n",
       "      <td>1999</td>\n",
       "      <td>Philip Prowse</td>\n",
       "      <td>3.000000</td>\n",
       "      <td>Cambridge University Press</td>\n",
       "      <td>1</td>\n",
       "      <td>052165615X</td>\n",
       "    </tr>\n",
       "    <tr>\n",
       "      <th>4</th>\n",
       "      <td>The Amsterdam Connection : Level 4 (Cambridge ...</td>\n",
       "      <td>2001</td>\n",
       "      <td>Sue Leather</td>\n",
       "      <td>6.000000</td>\n",
       "      <td>Cambridge University Press</td>\n",
       "      <td>1</td>\n",
       "      <td>0521795028</td>\n",
       "    </tr>\n",
       "    <tr>\n",
       "      <th>...</th>\n",
       "      <td>...</td>\n",
       "      <td>...</td>\n",
       "      <td>...</td>\n",
       "      <td>...</td>\n",
       "      <td>...</td>\n",
       "      <td>...</td>\n",
       "      <td>...</td>\n",
       "    </tr>\n",
       "    <tr>\n",
       "      <th>118716</th>\n",
       "      <td>A MARRIAGE MADE AT WOODSTOCK</td>\n",
       "      <td>1995</td>\n",
       "      <td>Cathie Pelletier</td>\n",
       "      <td>7.000000</td>\n",
       "      <td>Washington Square Press</td>\n",
       "      <td>1</td>\n",
       "      <td>0671516949</td>\n",
       "    </tr>\n",
       "    <tr>\n",
       "      <th>118717</th>\n",
       "      <td>The WEIGHT OF WINTER</td>\n",
       "      <td>1993</td>\n",
       "      <td>Cathie Pelletier</td>\n",
       "      <td>9.000000</td>\n",
       "      <td>Washington Square Press</td>\n",
       "      <td>1</td>\n",
       "      <td>067179387X</td>\n",
       "    </tr>\n",
       "    <tr>\n",
       "      <th>118718</th>\n",
       "      <td>Time Out Chicago (Time Out Chicago)</td>\n",
       "      <td>2000</td>\n",
       "      <td>Time Out</td>\n",
       "      <td>9.000000</td>\n",
       "      <td>Penguin Books</td>\n",
       "      <td>1</td>\n",
       "      <td>0140290788</td>\n",
       "    </tr>\n",
       "    <tr>\n",
       "      <th>118719</th>\n",
       "      <td>The Zen of Proposal Writing: An Expert's Stres...</td>\n",
       "      <td>2002</td>\n",
       "      <td>Kitta Reeds</td>\n",
       "      <td>7.000000</td>\n",
       "      <td>Three Rivers Press (CA)</td>\n",
       "      <td>1</td>\n",
       "      <td>0609806491</td>\n",
       "    </tr>\n",
       "    <tr>\n",
       "      <th>118720</th>\n",
       "      <td>Chorus</td>\n",
       "      <td>2003</td>\n",
       "      <td>Kurt Messick</td>\n",
       "      <td>10.000000</td>\n",
       "      <td>Dry Bones Press</td>\n",
       "      <td>1</td>\n",
       "      <td>1931333246</td>\n",
       "    </tr>\n",
       "  </tbody>\n",
       "</table>\n",
       "<p>118721 rows × 7 columns</p>\n",
       "</div>"
      ],
      "text/plain": [
       "                                               Book-Title  \\\n",
       "0                                    Flesh Tones: A Novel   \n",
       "1                                        Rites of Passage   \n",
       "2                                            The Notebook   \n",
       "3                                          Help!: Level 1   \n",
       "4       The Amsterdam Connection : Level 4 (Cambridge ...   \n",
       "...                                                   ...   \n",
       "118716                       A MARRIAGE MADE AT WOODSTOCK   \n",
       "118717                               The WEIGHT OF WINTER   \n",
       "118718                Time Out Chicago (Time Out Chicago)   \n",
       "118719  The Zen of Proposal Writing: An Expert's Stres...   \n",
       "118720                                             Chorus   \n",
       "\n",
       "        Year-Of-Publication       Book-Author  AVG-Rating  \\\n",
       "0                      2002        M. J. Rose    6.285714   \n",
       "1                      2001        Judith Rae    4.800000   \n",
       "2                      1996   Nicholas Sparks    7.897611   \n",
       "3                      1999     Philip Prowse    3.000000   \n",
       "4                      2001       Sue Leather    6.000000   \n",
       "...                     ...               ...         ...   \n",
       "118716                 1995  Cathie Pelletier    7.000000   \n",
       "118717                 1993  Cathie Pelletier    9.000000   \n",
       "118718                 2000          Time Out    9.000000   \n",
       "118719                 2002       Kitta Reeds    7.000000   \n",
       "118720                 2003      Kurt Messick   10.000000   \n",
       "\n",
       "                         Publisher  Vote-Count        ISBN  \n",
       "0                 Ballantine Books          28  034545104X  \n",
       "1                           Heinle           5  0571117880  \n",
       "2                     Warner Books         293  0446605239  \n",
       "3       Cambridge University Press           1  052165615X  \n",
       "4       Cambridge University Press           1  0521795028  \n",
       "...                            ...         ...         ...  \n",
       "118716     Washington Square Press           1  0671516949  \n",
       "118717     Washington Square Press           1  067179387X  \n",
       "118718               Penguin Books           1  0140290788  \n",
       "118719     Three Rivers Press (CA)           1  0609806491  \n",
       "118720             Dry Bones Press           1  1931333246  \n",
       "\n",
       "[118721 rows x 7 columns]"
      ]
     },
     "execution_count": 3,
     "metadata": {},
     "output_type": "execute_result"
    }
   ],
   "source": [
    "unq_books = pd.read_csv('UniqueBooks.csv', error_bad_lines=False, delimiter=',', encoding = 'ISO-8859-1') \n",
    "unq_books"
   ]
  },
  {
   "cell_type": "markdown",
   "metadata": {},
   "source": [
    "In order to do this kind of filtering, the following tasks must be completed:\n",
    "* Find a metric to score or rate book;\n",
    "* Calculate the score for every book;\n",
    "* Sort the scores and recommend the best rated books to the readers."
   ]
  },
  {
   "attachments": {
    "image.png": {
     "image/png": "[encoded data removed]"
    }
   },
   "cell_type": "markdown",
   "metadata": {},
   "source": [
    "There is already a metric in the table which provides a rate of the book - attribute \"AVG-Rating\". Nevertheless, using it would not be fair enough since a book with 8.9 average rating and only 3 votes cannot be considered better than the book with 7.8 as as average rating but 40 votes. To optimise rating, IMDB's weighted rating formula will be used. It looks like this:\n",
    "![image.png](attachment:image.png)\n",
    "\n",
    "where,\n",
    "\n",
    "* v is the number of votes for the book = Vote-Count;\n",
    "* m is the minimum votes required to be listed in the chart;\n",
    "* R is the average rating of the book = AVG-Rating; \n",
    "* C is the mean vote across the whole report = AVG-Rating.MEAN()."
   ]
  },
  {
   "cell_type": "markdown",
   "metadata": {},
   "source": [
    "Each row in the dataset contains a unique book and its rating information."
   ]
  },
  {
   "cell_type": "markdown",
   "metadata": {},
   "source": [
    "*Count C*"
   ]
  },
  {
   "cell_type": "code",
   "execution_count": 4,
   "metadata": {},
   "outputs": [
    {
     "data": {
      "text/plain": [
       "7.572258912926201"
      ]
     },
     "execution_count": 4,
     "metadata": {},
     "output_type": "execute_result"
    }
   ],
   "source": [
    "C= unq_books['AVG-Rating'].mean()\n",
    "C"
   ]
  },
  {
   "cell_type": "markdown",
   "metadata": {},
   "source": [
    "The mean rating for all the books is **7.6 on a scale of 10**."
   ]
  },
  {
   "cell_type": "markdown",
   "metadata": {},
   "source": [
    "*Count M*"
   ]
  },
  {
   "cell_type": "markdown",
   "metadata": {},
   "source": [
    "The value for *m* is left to be determined. Check statistics for the votes count of the books in the dataset to get a decision about the percentile that will be included in the filtering:"
   ]
  },
  {
   "cell_type": "code",
   "execution_count": 5,
   "metadata": {},
   "outputs": [
    {
     "data": {
      "text/plain": [
       "count    118721.000000\n",
       "mean          3.068252\n",
       "std           9.724439\n",
       "min           1.000000\n",
       "25%           1.000000\n",
       "50%           1.000000\n",
       "75%           2.000000\n",
       "max         707.000000\n",
       "Name: Vote-Count, dtype: float64"
      ]
     },
     "execution_count": 5,
     "metadata": {},
     "output_type": "execute_result"
    }
   ],
   "source": [
    "unq_books['Vote-Count'].describe()"
   ]
  },
  {
   "cell_type": "markdown",
   "metadata": {},
   "source": [
    ">The **average votes count** is **~3**\n",
    "><br>**75%** of the books **have lower votes count than the mean**\n",
    "><br>The **maximum votes count** is **707**"
   ]
  },
  {
   "cell_type": "markdown",
   "metadata": {},
   "source": [
    "Based on the statistics, a very high percentile has to be used for the popularity-based filtering, as there is a huge difference between the amount of votes count at the 75th percentile and the maximum vote. Observe the case of using the starting value of 90th percentile as a cutoff:"
   ]
  },
  {
   "cell_type": "code",
   "execution_count": 6,
   "metadata": {},
   "outputs": [
    {
     "data": {
      "text/plain": [
       "5.0"
      ]
     },
     "execution_count": 6,
     "metadata": {},
     "output_type": "execute_result"
    }
   ],
   "source": [
    "m= unq_books['Vote-Count'].quantile(0.9)\n",
    "m"
   ]
  },
  {
   "cell_type": "markdown",
   "metadata": {},
   "source": [
    "At least 5 votes are required for a book to be included in the chart. This value is higher than the average."
   ]
  },
  {
   "cell_type": "code",
   "execution_count": 7,
   "metadata": {},
   "outputs": [
    {
     "data": {
      "text/plain": [
       "(7600, 7)"
      ]
     },
     "execution_count": 7,
     "metadata": {},
     "output_type": "execute_result"
    }
   ],
   "source": [
    "pop_books = unq_books.copy().loc[(unq_books['Vote-Count'] >= m) & (unq_books['AVG-Rating'] > C)]\n",
    "pop_books.shape"
   ]
  },
  {
   "cell_type": "markdown",
   "metadata": {},
   "source": [
    "There are 7 600 books which qualify to be in this list. Considering the fact that these are 6% of the books, there would be a great variety of suitable books. However, the least amount of readers that approved these books is 5, which is insignificant regarding the total count of unique users - 65 390."
   ]
  },
  {
   "cell_type": "markdown",
   "metadata": {},
   "source": [
    "Apply the same actions to the 95th percentile to check whether it would be a more suitable decision regarding popularity:"
   ]
  },
  {
   "cell_type": "code",
   "execution_count": 8,
   "metadata": {},
   "outputs": [
    {
     "data": {
      "text/plain": [
       "9.0"
      ]
     },
     "execution_count": 8,
     "metadata": {},
     "output_type": "execute_result"
    }
   ],
   "source": [
    "m= unq_books['Vote-Count'].quantile(0.95)\n",
    "m"
   ]
  },
  {
   "cell_type": "markdown",
   "metadata": {},
   "source": [
    "At least 9 votes are required for a book to be included in the chart. This value is even higher than the average compared to the previous case, which is a good indicator."
   ]
  },
  {
   "cell_type": "code",
   "execution_count": 9,
   "metadata": {
    "scrolled": true
   },
   "outputs": [
    {
     "data": {
      "text/plain": [
       "(3756, 7)"
      ]
     },
     "execution_count": 9,
     "metadata": {},
     "output_type": "execute_result"
    }
   ],
   "source": [
    "pop_books = unq_books.copy().loc[(unq_books['Vote-Count'] >= m) & (unq_books['AVG-Rating'] > C)]\n",
    "pop_books.shape"
   ]
  },
  {
   "cell_type": "markdown",
   "metadata": {},
   "source": [
    "There are 3 756 books which qualify to be in this list. Considering the fact that these are 3% of the books, there would still be a great variety of suitable books. However, the least amount of readers that approved these books is 9, which is better yet again insignificant regarding the total count of unique users - 65 390."
   ]
  },
  {
   "cell_type": "markdown",
   "metadata": {},
   "source": [
    "It seems that a small proportion of the books must have notable user popularity. Check whether the 99th percentile contains notable votes count compared to the total amont of readers in the system:"
   ]
  },
  {
   "cell_type": "code",
   "execution_count": 10,
   "metadata": {},
   "outputs": [
    {
     "data": {
      "text/plain": [
       "32.0"
      ]
     },
     "execution_count": 10,
     "metadata": {},
     "output_type": "execute_result"
    }
   ],
   "source": [
    "m= unq_books['Vote-Count'].quantile(0.99)\n",
    "m"
   ]
  },
  {
   "cell_type": "code",
   "execution_count": 11,
   "metadata": {
    "scrolled": true
   },
   "outputs": [
    {
     "data": {
      "text/plain": [
       "(785, 7)"
      ]
     },
     "execution_count": 11,
     "metadata": {},
     "output_type": "execute_result"
    }
   ],
   "source": [
    "pop_books = unq_books.copy().loc[(unq_books['Vote-Count'] >= m) & (unq_books['AVG-Rating'] > C)]\n",
    "pop_books.shape"
   ]
  },
  {
   "cell_type": "markdown",
   "metadata": {},
   "source": [
    "In this case, there is a significant difference in terms of users compared to the 95th percentile. The variety of books (785) falls down below 1%, but the filtering would be more accurate in terms of user approval due to the following fact:\n",
    ">*A book must have more votes than at least 99% of the books in the list to feature in the charts.*"
   ]
  },
  {
   "cell_type": "markdown",
   "metadata": {},
   "source": [
    "The value for 'm' is determined - **99th percentile will be used as a cutoff**. "
   ]
  },
  {
   "cell_type": "markdown",
   "metadata": {},
   "source": [
    "Now, everything is prepared to calculate the metric for each qualified book. To do this, a function, weighted_rating() will be defined, which calculates the formula and gets the score as the metric."
   ]
  },
  {
   "cell_type": "code",
   "execution_count": 12,
   "metadata": {},
   "outputs": [],
   "source": [
    "def weighted_rating(unq_books, m=m, C=C):\n",
    "    v = unq_books['Vote-Count']\n",
    "    R = unq_books['AVG-Rating']\n",
    "    # Calculation based on the IMDB formula\n",
    "    return (v/(v+m) * R) + (m/(m+v) * C)"
   ]
  },
  {
   "cell_type": "markdown",
   "metadata": {},
   "source": [
    "Define a new feature 'score' and calculate its value with `weighted_rating()`:"
   ]
  },
  {
   "cell_type": "code",
   "execution_count": 13,
   "metadata": {},
   "outputs": [],
   "source": [
    "pop_books['score'] = pop_books.apply(weighted_rating, axis=1)"
   ]
  },
  {
   "cell_type": "markdown",
   "metadata": {},
   "source": [
    "Finally, sort the DataFrame based on the score feature and output the title, author(s), vote count, average rating and weighted rating or score of the top 10 books."
   ]
  },
  {
   "cell_type": "code",
   "execution_count": 14,
   "metadata": {},
   "outputs": [
    {
     "data": {
      "text/html": [
       "<div>\n",
       "<style scoped>\n",
       "    .dataframe tbody tr th:only-of-type {\n",
       "        vertical-align: middle;\n",
       "    }\n",
       "\n",
       "    .dataframe tbody tr th {\n",
       "        vertical-align: top;\n",
       "    }\n",
       "\n",
       "    .dataframe thead th {\n",
       "        text-align: right;\n",
       "    }\n",
       "</style>\n",
       "<table border=\"1\" class=\"dataframe\">\n",
       "  <thead>\n",
       "    <tr style=\"text-align: right;\">\n",
       "      <th></th>\n",
       "      <th>Book-Title</th>\n",
       "      <th>Book-Author</th>\n",
       "      <th>Vote-Count</th>\n",
       "      <th>AVG-Rating</th>\n",
       "      <th>score</th>\n",
       "    </tr>\n",
       "  </thead>\n",
       "  <tbody>\n",
       "    <tr>\n",
       "      <th>5067</th>\n",
       "      <td>The Two Towers (The Lord of the Rings, Part 2)</td>\n",
       "      <td>J. R. R. Tolkien</td>\n",
       "      <td>134</td>\n",
       "      <td>9.320896</td>\n",
       "      <td>8.983809</td>\n",
       "    </tr>\n",
       "    <tr>\n",
       "      <th>2763</th>\n",
       "      <td>Harry Potter and the Goblet of Fire (Book 4)</td>\n",
       "      <td>J. K. Rowling</td>\n",
       "      <td>247</td>\n",
       "      <td>9.125506</td>\n",
       "      <td>8.947356</td>\n",
       "    </tr>\n",
       "    <tr>\n",
       "      <th>1071</th>\n",
       "      <td>Harry Potter and the Prisoner of Azkaban (Book 3)</td>\n",
       "      <td>J. K. Rowling</td>\n",
       "      <td>277</td>\n",
       "      <td>9.043321</td>\n",
       "      <td>8.890978</td>\n",
       "    </tr>\n",
       "    <tr>\n",
       "      <th>41</th>\n",
       "      <td>Harry Potter and the Order of the Phoenix (Boo...</td>\n",
       "      <td>J. K. Rowling</td>\n",
       "      <td>211</td>\n",
       "      <td>9.047393</td>\n",
       "      <td>8.853137</td>\n",
       "    </tr>\n",
       "    <tr>\n",
       "      <th>6827</th>\n",
       "      <td>The Return of the King (The Lord of the Rings,...</td>\n",
       "      <td>J.R.R. TOLKIEN</td>\n",
       "      <td>102</td>\n",
       "      <td>9.254902</td>\n",
       "      <td>8.853077</td>\n",
       "    </tr>\n",
       "    <tr>\n",
       "      <th>1072</th>\n",
       "      <td>Harry Potter and the Sorcerer's Stone (Book 1)</td>\n",
       "      <td>J. K. Rowling</td>\n",
       "      <td>176</td>\n",
       "      <td>9.062500</td>\n",
       "      <td>8.833232</td>\n",
       "    </tr>\n",
       "    <tr>\n",
       "      <th>368</th>\n",
       "      <td>To Kill a Mockingbird</td>\n",
       "      <td>Harper Lee</td>\n",
       "      <td>267</td>\n",
       "      <td>8.977528</td>\n",
       "      <td>8.827131</td>\n",
       "    </tr>\n",
       "    <tr>\n",
       "      <th>353</th>\n",
       "      <td>Harry Potter and the Sorcerer's Stone (Harry P...</td>\n",
       "      <td>J. K. Rowling</td>\n",
       "      <td>315</td>\n",
       "      <td>8.936508</td>\n",
       "      <td>8.810698</td>\n",
       "    </tr>\n",
       "    <tr>\n",
       "      <th>298</th>\n",
       "      <td>Harry Potter and the Chamber of Secrets (Book 2)</td>\n",
       "      <td>J. K. Rowling</td>\n",
       "      <td>326</td>\n",
       "      <td>8.840491</td>\n",
       "      <td>8.727129</td>\n",
       "    </tr>\n",
       "    <tr>\n",
       "      <th>2690</th>\n",
       "      <td>The Fellowship of the Ring (The Lord of the Ri...</td>\n",
       "      <td>J. R. R. Tolkien</td>\n",
       "      <td>204</td>\n",
       "      <td>8.901961</td>\n",
       "      <td>8.721662</td>\n",
       "    </tr>\n",
       "  </tbody>\n",
       "</table>\n",
       "</div>"
      ],
      "text/plain": [
       "                                             Book-Title       Book-Author  \\\n",
       "5067     The Two Towers (The Lord of the Rings, Part 2)  J. R. R. Tolkien   \n",
       "2763       Harry Potter and the Goblet of Fire (Book 4)     J. K. Rowling   \n",
       "1071  Harry Potter and the Prisoner of Azkaban (Book 3)     J. K. Rowling   \n",
       "41    Harry Potter and the Order of the Phoenix (Boo...     J. K. Rowling   \n",
       "6827  The Return of the King (The Lord of the Rings,...    J.R.R. TOLKIEN   \n",
       "1072     Harry Potter and the Sorcerer's Stone (Book 1)     J. K. Rowling   \n",
       "368                               To Kill a Mockingbird        Harper Lee   \n",
       "353   Harry Potter and the Sorcerer's Stone (Harry P...     J. K. Rowling   \n",
       "298    Harry Potter and the Chamber of Secrets (Book 2)     J. K. Rowling   \n",
       "2690  The Fellowship of the Ring (The Lord of the Ri...  J. R. R. Tolkien   \n",
       "\n",
       "      Vote-Count  AVG-Rating     score  \n",
       "5067         134    9.320896  8.983809  \n",
       "2763         247    9.125506  8.947356  \n",
       "1071         277    9.043321  8.890978  \n",
       "41           211    9.047393  8.853137  \n",
       "6827         102    9.254902  8.853077  \n",
       "1072         176    9.062500  8.833232  \n",
       "368          267    8.977528  8.827131  \n",
       "353          315    8.936508  8.810698  \n",
       "298          326    8.840491  8.727129  \n",
       "2690         204    8.901961  8.721662  "
      ]
     },
     "execution_count": 14,
     "metadata": {},
     "output_type": "execute_result"
    }
   ],
   "source": [
    "#Sort books based on score calculated above\n",
    "pop_books = pop_books.sort_values('score', ascending=False)\n",
    "\n",
    "#Print the top 10 books\n",
    "pop_books[['Book-Title', 'Book-Author', 'Vote-Count', 'AVG-Rating', 'score']].head(10)"
   ]
  },
  {
   "cell_type": "markdown",
   "metadata": {},
   "source": [
    "First recommender is ready."
   ]
  },
  {
   "cell_type": "code",
   "execution_count": 15,
   "metadata": {},
   "outputs": [
    {
     "data": {
      "text/plain": [
       "Text(0.5, 1.0, 'Top Popular Books')"
      ]
     },
     "execution_count": 15,
     "metadata": {},
     "output_type": "execute_result"
    },
    {
     "data": {
      "image/png": "[encoded data removed]",
      "text/plain": [
       "<Figure size 864x288 with 1 Axes>"
      ]
     },
     "metadata": {
      "needs_background": "light"
     },
     "output_type": "display_data"
    }
   ],
   "source": [
    "plt.figure(figsize=(12,4))\n",
    "\n",
    "plt.barh(pop_books['Book-Title'].head(7),pop_books['AVG-Rating'].head(7), align='center',\n",
    "        color='skyblue')\n",
    "plt.gca().invert_yaxis()\n",
    "plt.xlabel(\"Average Rating\")\n",
    "plt.title(\"Top Popular Books\")"
   ]
  },
  {
   "cell_type": "markdown",
   "metadata": {},
   "source": [
    "This popularity-based recommender provides a general chart of recommended books to all the users. The suggestions are not sensitive to the interests and tastes of a particular reader. "
   ]
  },
  {
   "cell_type": "markdown",
   "metadata": {},
   "source": [
    "---------------"
   ]
  },
  {
   "cell_type": "markdown",
   "metadata": {},
   "source": [
    "#### Save the extracted dataset with popular books for further usage in modeling"
   ]
  },
  {
   "cell_type": "code",
   "execution_count": 16,
   "metadata": {},
   "outputs": [],
   "source": [
    "pop_books.to_csv('PopularBooks.csv', index = False)"
   ]
  }
 ],
 "metadata": {
  "kernelspec": {
   "display_name": "Python 3",
   "language": "python",
   "name": "python3"
  },
  "language_info": {
   "codemirror_mode": {
    "name": "ipython",
    "version": 3
   },
   "file_extension": ".py",
   "mimetype": "text/x-python",
   "name": "python",
   "nbconvert_exporter": "python",
   "pygments_lexer": "ipython3",
   "version": "3.8.5"
  }
 },
 "nbformat": 4,
 "nbformat_minor": 4
}
